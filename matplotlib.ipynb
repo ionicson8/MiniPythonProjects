{
 "cells": [
  {
   "cell_type": "code",
   "execution_count": null,
   "metadata": {},
   "outputs": [],
   "source": [
    "import matplotlib.pyplot as plt\r\n",
    "import numpy as np"
   ]
  },
  {
   "cell_type": "code",
   "execution_count": null,
   "metadata": {},
   "outputs": [],
   "source": [
    "xpoints = np.array([0,3, 6])\r\n",
    "ypoints = np.array([0,100, 250])\r\n",
    "\r\n",
    "plt.plot(xpoints, ypoints, c = np.array([\"red\", \"orange\", \"purple\"]))\r\n",
    "plt.show()"
   ]
  },
  {
   "cell_type": "code",
   "execution_count": null,
   "metadata": {},
   "outputs": [],
   "source": [
    "#plot 1:\r\n",
    "x = np.array([0, 1, 2, 3])\r\n",
    "y = np.array([3, 8, 1, 10])\r\n",
    "\r\n",
    "plt.suptitle(\"MY SHOP\")\r\n",
    "\r\n",
    "plt.subplot(1, 2, 1)\r\n",
    "plt.plot(x,y)\r\n",
    "plt.title(\"SALES\")\r\n",
    "\r\n",
    "#plot 2:\r\n",
    "x = np.array([0, 1, 2, 3])\r\n",
    "y = np.array([10, 20, 30, 40])\r\n",
    "\r\n",
    "plt.subplot(1, 2, 2)\r\n",
    "plt.plot(x,y)\r\n",
    "plt.title(\"INCOME\")\r\n",
    "\r\n",
    "\r\n",
    "plt.show()"
   ]
  },
  {
   "cell_type": "code",
   "execution_count": null,
   "metadata": {},
   "outputs": [],
   "source": [
    "x = np.array([5,7,8,7,2,17,2,9,4,11,12,9,6])\r\n",
    "y = np.array([99,86,87,88,111,86,103,87,94,78,77,85,86])\r\n",
    "\r\n",
    "plt.plot(x, y, 'o')"
   ]
  },
  {
   "cell_type": "code",
   "execution_count": 44,
   "metadata": {},
   "outputs": [
    {
     "name": "stdout",
     "output_type": "stream",
     "text": [
      "[[70 76]\n",
      " [85 10]\n",
      " [55  6]\n",
      " [60 42]\n",
      " [34 49]\n",
      " [96 62]\n",
      " [14 26]\n",
      " [30 98]\n",
      " [89 83]\n",
      " [ 4 98]]\n"
     ]
    }
   ],
   "source": [
    "print(np.random.randint(100,size=(10,2)))"
   ]
  }
 ],
 "metadata": {
  "interpreter": {
   "hash": "20f06721f5438727c0bb7f6281da16bd53098a06ec1bc7a235db1f401c9dc021"
  },
  "kernelspec": {
   "display_name": "Python 3.8.5 64-bit",
   "name": "python3"
  },
  "language_info": {
   "codemirror_mode": {
    "name": "ipython",
    "version": 3
   },
   "file_extension": ".py",
   "mimetype": "text/x-python",
   "name": "python",
   "nbconvert_exporter": "python",
   "pygments_lexer": "ipython3",
   "version": "3.8.5"
  },
  "orig_nbformat": 4
 },
 "nbformat": 4,
 "nbformat_minor": 2
}